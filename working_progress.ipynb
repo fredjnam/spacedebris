{
 "cells": [
  {
   "cell_type": "code",
   "execution_count": 2,
   "metadata": {},
   "outputs": [
    {
     "ename": "ModuleNotFoundError",
     "evalue": "No module named 'pandas'",
     "output_type": "error",
     "traceback": [
      "\u001b[0;31m---------------------------------------------------------------------------\u001b[0m",
      "\u001b[0;31mModuleNotFoundError\u001b[0m                       Traceback (most recent call last)",
      "Cell \u001b[0;32mIn[2], line 1\u001b[0m\n\u001b[0;32m----> 1\u001b[0m \u001b[38;5;28;01mimport\u001b[39;00m\u001b[38;5;250m \u001b[39m\u001b[38;5;21;01mpandas\u001b[39;00m\u001b[38;5;250m \u001b[39m\u001b[38;5;28;01mas\u001b[39;00m\u001b[38;5;250m \u001b[39m\u001b[38;5;21;01mpd\u001b[39;00m\n\u001b[1;32m      2\u001b[0m \u001b[38;5;28;01mimport\u001b[39;00m\u001b[38;5;250m \u001b[39m\u001b[38;5;21;01mnumpy\u001b[39;00m\u001b[38;5;250m \u001b[39m\u001b[38;5;28;01mas\u001b[39;00m\u001b[38;5;250m \u001b[39m\u001b[38;5;21;01mnp\u001b[39;00m\n\u001b[1;32m      3\u001b[0m \u001b[38;5;28;01mfrom\u001b[39;00m\u001b[38;5;250m \u001b[39m\u001b[38;5;21;01mpprint\u001b[39;00m\u001b[38;5;250m \u001b[39m\u001b[38;5;28;01mimport\u001b[39;00m pprint\n",
      "\u001b[0;31mModuleNotFoundError\u001b[0m: No module named 'pandas'"
     ]
    }
   ],
   "source": [
    "import pandas as pd\n",
    "import numpy as np\n",
    "from pprint import pprint\n",
    "import requests"
   ]
  },
  {
   "cell_type": "code",
   "execution_count": null,
   "metadata": {},
   "outputs": [
    {
     "ename": "ModuleNotFoundError",
     "evalue": "No module named 'requests'",
     "output_type": "error",
     "traceback": [
      "\u001b[0;31m---------------------------------------------------------------------------\u001b[0m",
      "\u001b[0;31mModuleNotFoundError\u001b[0m                       Traceback (most recent call last)",
      "Cell \u001b[0;32mIn[1], line 2\u001b[0m\n\u001b[1;32m      1\u001b[0m \u001b[38;5;28;01mfrom\u001b[39;00m\u001b[38;5;250m \u001b[39m\u001b[38;5;21;01mpprint\u001b[39;00m\u001b[38;5;250m \u001b[39m\u001b[38;5;28;01mimport\u001b[39;00m pprint\n\u001b[0;32m----> 2\u001b[0m \u001b[38;5;28;01mimport\u001b[39;00m\u001b[38;5;250m \u001b[39m\u001b[38;5;21;01mrequests\u001b[39;00m\n\u001b[1;32m      4\u001b[0m URL \u001b[38;5;241m=\u001b[39m \u001b[38;5;124m'\u001b[39m\u001b[38;5;124mhttps://discosweb.esoc.esa.int\u001b[39m\u001b[38;5;124m'\u001b[39m\n\u001b[1;32m      5\u001b[0m token \u001b[38;5;241m=\u001b[39m \u001b[38;5;124m'\u001b[39m\u001b[38;5;124mIjc0ZTVhNDg3LTY1MzAtNGU2YS04ZDk1LTk0MzM5Njc5NTNhOCI.gU9eMy5iu9b0cNWm-1x_ao71xS8\u001b[39m\u001b[38;5;124m'\u001b[39m\n",
      "\u001b[0;31mModuleNotFoundError\u001b[0m: No module named 'requests'"
     ]
    }
   ],
   "source": [
    "URL = 'https://discosweb.esoc.esa.int'\n",
    "token = 'Ijc0ZTVhNDg3LTY1MzAtNGU2YS04ZDk1LTk0MzM5Njc5NTNhOCI.gU9eMy5iu9b0cNWm-1x_ao71xS8'\n",
    "\n",
    "response = requests.get(\n",
    "    f'{URL}/api/launches',\n",
    "    headers={\n",
    "        'Authorization': f'Bearer {token}',\n",
    "        'DiscosWeb-Api-Version': '2',\n",
    "    },\n",
    "    params={\n",
    "#         'filter': \"contains(name,SpaceX)\",\n",
    "        'sort': '-epoch',\n",
    "        'page[size]': 100,\n",
    "        'page[number]': 50\n",
    "\n",
    "    },\n",
    ")\n",
    "\n",
    "doc = response.json()\n",
    "if response.ok:\n",
    "    pprint(doc['data'])\n",
    "else:\n",
    "    pprint(doc['errors'])"
   ]
  },
  {
   "cell_type": "code",
   "execution_count": null,
   "metadata": {},
   "outputs": [],
   "source": [
    "import requests\n",
    "import csv\n",
    "import time\n",
    "\n",
    "# Define API details\n",
    "URL = 'https://discosweb.esoc.esa.int'\n",
    "TOKEN = 'ImFkM2IxYzU3LTM3OGQtNGNhNC1iMTZjLTQyZGIxODM4YjMzYSI.E_g3DVwIJOz_oJlalZJ2WLWlXqw'\n",
    "HEADERS = {\n",
    "    'Authorization': f'Bearer {TOKEN}',\n",
    "    'DiscosWeb-Api-Version': '2',\n",
    "}\n",
    "\n",
    "# CSV output file\n",
    "OUTPUT_FILE = 'discos_historical_launch_data.csv'\n",
    "\n",
    "# Total pages\n",
    "TOTAL_PAGES = 70\n",
    "PAGE_SIZE = 100  # Number of entries per page\n",
    "\n",
    "# Initialize an empty list to store all entries\n",
    "all_entries = []\n",
    "\n",
    "# Loop through all pages and fetch data\n",
    "for page_number in range(1, TOTAL_PAGES + 1):\n",
    "    print(f\"Fetching page {page_number}/{TOTAL_PAGES}...\")\n",
    "\n",
    "    response = requests.get(\n",
    "        f'{URL}/api/launches',\n",
    "        headers=HEADERS,\n",
    "        params={\n",
    "#             'filter': \"contains(objectClass,Debris)\",\n",
    "            'sort': 'epoch',\n",
    "            'page[size]': PAGE_SIZE,\n",
    "            'page[number]': page_number,\n",
    "        },\n",
    "    )\n",
    "\n",
    "    if response.ok:\n",
    "        data = response.json().get('data', [])\n",
    "        for entry in data:\n",
    "            # Flatten the attributes dictionary into top-level fields\n",
    "            flattened_entry = entry.get('attributes', {})\n",
    "            flattened_entry['id'] = entry.get('id', '')  # Include 'id' field\n",
    "            all_entries.append(flattened_entry)\n",
    "    else:\n",
    "        print(f\"Error fetching page {page_number}: {response.status_code}\")\n",
    "        print(response.json().get('errors'))\n",
    "        break  # Stop the loop if an error occurs\n",
    "\n",
    "    # Avoid hitting rate limits\n",
    "    time.sleep(1)\n",
    "\n",
    "# Write to CSV\n",
    "if all_entries:\n",
    "    # Extract column names dynamically\n",
    "    keys = set()\n",
    "    for entry in all_entries:\n",
    "        keys.update(entry.keys())\n",
    "\n",
    "    keys = list(keys)  # Convert set to list to use as fieldnames\n",
    "\n",
    "    with open(OUTPUT_FILE, 'w', newline='', encoding='utf-8') as file:\n",
    "        writer = csv.DictWriter(file, fieldnames=keys, delimiter=',', quotechar='\"', quoting=csv.QUOTE_MINIMAL)\n",
    "        writer.writeheader()\n",
    "\n",
    "        for entry in all_entries:\n",
    "            writer.writerow({key: str(entry.get(key, '')) for key in keys})\n",
    "\n",
    "    print(f\"Data successfully saved to {OUTPUT_FILE}\")\n",
    "else:\n",
    "    print(\"No data fetched.\")\n"
   ]
  }
 ],
 "metadata": {
  "kernelspec": {
   "display_name": "Python 3",
   "language": "python",
   "name": "python3"
  },
  "language_info": {
   "codemirror_mode": {
    "name": "ipython",
    "version": 3
   },
   "file_extension": ".py",
   "mimetype": "text/x-python",
   "name": "python",
   "nbconvert_exporter": "python",
   "pygments_lexer": "ipython3",
   "version": "3.9.6"
  }
 },
 "nbformat": 4,
 "nbformat_minor": 2
}
